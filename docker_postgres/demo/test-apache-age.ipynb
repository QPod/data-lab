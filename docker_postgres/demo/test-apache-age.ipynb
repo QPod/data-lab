{
 "cells": [
  {
   "cell_type": "markdown",
   "id": "0e5737ed-ad83-4902-b551-ddd413f13475",
   "metadata": {},
   "source": [
    "# Example - Using Python to connect to PG Apache AGE\n",
    "\n",
    "- reference: https://age.apache.org/getstarted/quickstart\n",
    "- to install `apache-age-python`, code compile is currently required:\n",
    "\n",
    "```shell\n",
    "sudo apt-get -y install gcc libpq-dev \"postgresql-client-${VER_PG}\"\n",
    "```"
   ]
  },
  {
   "cell_type": "code",
   "execution_count": null,
   "id": "c0fa8e36-c263-4f95-b715-670ee760167d",
   "metadata": {},
   "outputs": [],
   "source": [
    "! pip install apache-age-python"
   ]
  },
  {
   "cell_type": "code",
   "execution_count": null,
   "id": "1700acf5-8cc6-495a-ab7d-44115cdc7b94",
   "metadata": {},
   "outputs": [],
   "source": [
    "import age\n",
    "import psycopg2"
   ]
  },
  {
   "cell_type": "code",
   "execution_count": null,
   "id": "dac7a486-6fc8-43f5-88f9-ed57d507becb",
   "metadata": {},
   "outputs": [],
   "source": [
    "conn = psycopg2.connect(host=\"db-postgres\", port=\"5432\", dbname=\"postgres\", user=\"postgres\", password=\"postgres\")"
   ]
  },
  {
   "cell_type": "code",
   "execution_count": null,
   "id": "759fe54a-7897-4eaa-a304-ff9d084c0704",
   "metadata": {},
   "outputs": [],
   "source": [
    "DSN = \"host=db-postgres port=5432 dbname=postgres user=postgres password=postgres\"\n",
    "TEST_GRAPH_NAME = 'agens'\n",
    "\n",
    "conn = age.connect(dsn=DSN, graph=TEST_GRAPH_NAME)"
   ]
  },
  {
   "cell_type": "code",
   "execution_count": null,
   "id": "56c19b14-aaa5-4d73-b049-88f51fb983e6",
   "metadata": {},
   "outputs": [],
   "source": [
    "cursor = conn.execCypher(\"CREATE (n:Person {name: %s, title: 'Developer'}) RETURN n\", params=('Andy',))"
   ]
  },
  {
   "cell_type": "code",
   "execution_count": null,
   "id": "affae3fa-bad0-4685-a05b-fb689287fce3",
   "metadata": {},
   "outputs": [],
   "source": [
    "from age.models import Vertex\n",
    "for row in cursor:\n",
    "    print(\"Vertex: %s , Type: %s \" % (Vertex, type(row[0])))"
   ]
  }
 ],
 "metadata": {
  "kernelspec": {
   "display_name": "Python 3 (ipykernel)",
   "language": "python",
   "name": "python3"
  },
  "language_info": {
   "codemirror_mode": {
    "name": "ipython",
    "version": 3
   },
   "file_extension": ".py",
   "mimetype": "text/x-python",
   "name": "python",
   "nbconvert_exporter": "python",
   "pygments_lexer": "ipython3",
   "version": "3.11.8"
  }
 },
 "nbformat": 4,
 "nbformat_minor": 5
}
